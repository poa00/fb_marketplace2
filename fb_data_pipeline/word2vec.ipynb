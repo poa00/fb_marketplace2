{
 "cells": [
  {
   "cell_type": "code",
   "execution_count": 2,
   "metadata": {},
   "outputs": [
    {
     "name": "stderr",
     "output_type": "stream",
     "text": [
      "Since the GPL-licensed package `unidecode` is not installed, using Python's `unicodedata` package which yields worse results.\n"
     ]
    }
   ],
   "source": [
    "import clean_data\n",
    "import os\n",
    "import pandas as pd\n",
    "from torchtext.data.utils import get_tokenizer\n",
    "import collections\n",
    "import torchtext"
   ]
  },
  {
   "cell_type": "code",
   "execution_count": 15,
   "metadata": {},
   "outputs": [],
   "source": [
    "filepath = os.path.join(os.path.dirname(os.getcwd()), 'data', \"vocab_text.csv\")\n",
    "fb_clean = clean_data.CleanTabular(os.path.join(os.path.dirname(os.getcwd()), 'data/Products.csv'))\n",
    "fb_clean.slice_df(series_to_keep = ['product_description', 'category'])\n",
    "fb_clean.clean_to_general_category('category')\n",
    "fb_clean.clean_to_category_type('category', ohe=False)\n",
    "fb_clean.df.to_csv(filepath)"
   ]
  },
  {
   "cell_type": "code",
   "execution_count": 12,
   "metadata": {},
   "outputs": [
    {
     "data": {
      "text/html": [
       "<div>\n",
       "<style scoped>\n",
       "    .dataframe tbody tr th:only-of-type {\n",
       "        vertical-align: middle;\n",
       "    }\n",
       "\n",
       "    .dataframe tbody tr th {\n",
       "        vertical-align: top;\n",
       "    }\n",
       "\n",
       "    .dataframe thead th {\n",
       "        text-align: right;\n",
       "    }\n",
       "</style>\n",
       "<table border=\"1\" class=\"dataframe\">\n",
       "  <thead>\n",
       "    <tr style=\"text-align: right;\">\n",
       "      <th></th>\n",
       "      <th>category</th>\n",
       "      <th>product_description</th>\n",
       "    </tr>\n",
       "  </thead>\n",
       "  <tbody>\n",
       "    <tr>\n",
       "      <th>0</th>\n",
       "      <td>6</td>\n",
       "      <td>Mirror wall art. Posted by Nisha in Dining, Li...</td>\n",
       "    </tr>\n",
       "    <tr>\n",
       "      <th>1</th>\n",
       "      <td>6</td>\n",
       "      <td>Morphy Richard’s (model no 48755)Stainless ste...</td>\n",
       "    </tr>\n",
       "    <tr>\n",
       "      <th>2</th>\n",
       "      <td>6</td>\n",
       "      <td>I have 2 of these - collection only as I don’t...</td>\n",
       "    </tr>\n",
       "    <tr>\n",
       "      <th>3</th>\n",
       "      <td>6</td>\n",
       "      <td>Great reclaimed army ammunition box used as co...</td>\n",
       "    </tr>\n",
       "    <tr>\n",
       "      <th>4</th>\n",
       "      <td>6</td>\n",
       "      <td>New Design Shannon Corner sofa  5 Seater Avail...</td>\n",
       "    </tr>\n",
       "    <tr>\n",
       "      <th>...</th>\n",
       "      <td>...</td>\n",
       "      <td>...</td>\n",
       "    </tr>\n",
       "    <tr>\n",
       "      <th>7151</th>\n",
       "      <td>12</td>\n",
       "      <td>Sony PlayStation VR Move Bundle353CASH ON COLL...</td>\n",
       "    </tr>\n",
       "    <tr>\n",
       "      <th>7152</th>\n",
       "      <td>12</td>\n",
       "      <td>Playstation VR V2 Bundle355CASH ON COLLECTION ...</td>\n",
       "    </tr>\n",
       "    <tr>\n",
       "      <th>7153</th>\n",
       "      <td>12</td>\n",
       "      <td>Pick up only £250Comes with two pistols stocks...</td>\n",
       "    </tr>\n",
       "    <tr>\n",
       "      <th>7154</th>\n",
       "      <td>12</td>\n",
       "      <td>Bought at christmas from currys retailing at £...</td>\n",
       "    </tr>\n",
       "    <tr>\n",
       "      <th>7155</th>\n",
       "      <td>12</td>\n",
       "      <td>Nintendo Switch console only used 2/3 times. A...</td>\n",
       "    </tr>\n",
       "  </tbody>\n",
       "</table>\n",
       "<p>7156 rows × 2 columns</p>\n",
       "</div>"
      ],
      "text/plain": [
       "      category                                product_description\n",
       "0            6  Mirror wall art. Posted by Nisha in Dining, Li...\n",
       "1            6  Morphy Richard’s (model no 48755)Stainless ste...\n",
       "2            6  I have 2 of these - collection only as I don’t...\n",
       "3            6  Great reclaimed army ammunition box used as co...\n",
       "4            6  New Design Shannon Corner sofa  5 Seater Avail...\n",
       "...        ...                                                ...\n",
       "7151        12  Sony PlayStation VR Move Bundle353CASH ON COLL...\n",
       "7152        12  Playstation VR V2 Bundle355CASH ON COLLECTION ...\n",
       "7153        12  Pick up only £250Comes with two pistols stocks...\n",
       "7154        12  Bought at christmas from currys retailing at £...\n",
       "7155        12  Nintendo Switch console only used 2/3 times. A...\n",
       "\n",
       "[7156 rows x 2 columns]"
      ]
     },
     "execution_count": 12,
     "metadata": {},
     "output_type": "execute_result"
    }
   ],
   "source": [
    "fb_clean.df"
   ]
  },
  {
   "cell_type": "code",
   "execution_count": 23,
   "metadata": {},
   "outputs": [],
   "source": [
    "filepath = os.path.join(os.path.dirname(os.getcwd()), 'data', \"vocab_text.txt\")\n",
    "fb_clean = clean_data.CleanTabular(os.path.join(os.path.dirname(os.getcwd()), 'data/Products.csv'))\n",
    "fb_clean.slice_df(series_to_keep = ['product_description'])\n",
    "fb_clean.df.to_csv(filepath, header=None, index = None, sep = ' ')"
   ]
  },
  {
   "cell_type": "code",
   "execution_count": 48,
   "metadata": {},
   "outputs": [],
   "source": [
    "tokenizer = get_tokenizer(\"basic_english\")\n",
    "counter_obj = collections.Counter()\n",
    "f=open(filepath, \"r\")\n",
    "split_and_lowered = None\n",
    "for line in f:\n",
    "    line=line.strip()\n",
    "    split_and_lowered = tokenizer(line)\n",
    "    counter_obj.update(split_and_lowered)\n",
    "f.close()\n",
    "result = torchtext.vocab.Vocab(counter_obj)"
   ]
  },
  {
   "cell_type": "code",
   "execution_count": 50,
   "metadata": {},
   "outputs": [
    {
     "name": "stdout",
     "output_type": "stream",
     "text": [
      "<class 'torchtext.vocab.vocab.Vocab'>\n"
     ]
    }
   ],
   "source": [
    "print(type(result))"
   ]
  },
  {
   "cell_type": "code",
   "execution_count": null,
   "metadata": {},
   "outputs": [],
   "source": [
    "class FbItemDescript(Dataset):\n",
    "    def __init__(self, filepath):\n",
    "        super().__init__()\n",
    "        self.item_descriptions = open(filepath, encoding='utf-8').read().split('\"')\n",
    "\n",
    "        def __getitem__(self, index):\n",
    "            item_description = self.item_descriptions[index]\n",
    "            item_description = torch.tensor(item_description)\n",
    "\n",
    "            return item_description\n",
    "\n",
    "        def __len__(self):\n",
    "            return len(self.item_descriptions)"
   ]
  },
  {
   "cell_type": "code",
   "execution_count": null,
   "metadata": {},
   "outputs": [],
   "source": [
    "    # filepath = os.path.join(os.getcwd(), 'data', \"vocab_text.txt\")\n",
    "    # word2vec_dataset = FbItemDescript(filepath)\n",
    "    # print(type(word2vec_dataset))"
   ]
  }
 ],
 "metadata": {
  "kernelspec": {
   "display_name": "Python 3.9.15 ('word2vec-env')",
   "language": "python",
   "name": "python3"
  },
  "language_info": {
   "codemirror_mode": {
    "name": "ipython",
    "version": 3
   },
   "file_extension": ".py",
   "mimetype": "text/x-python",
   "name": "python",
   "nbconvert_exporter": "python",
   "pygments_lexer": "ipython3",
   "version": "3.9.15"
  },
  "orig_nbformat": 4,
  "vscode": {
   "interpreter": {
    "hash": "e57de12703d2b162336fe016dc3c01ee99381732e41dc815682d61551d3f7048"
   }
  }
 },
 "nbformat": 4,
 "nbformat_minor": 2
}
